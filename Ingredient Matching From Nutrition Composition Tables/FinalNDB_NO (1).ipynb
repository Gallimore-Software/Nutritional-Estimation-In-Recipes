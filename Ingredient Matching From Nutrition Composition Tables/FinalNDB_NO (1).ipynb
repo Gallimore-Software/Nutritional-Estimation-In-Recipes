{
 "cells": [
  {
   "cell_type": "code",
   "execution_count": 1,
   "metadata": {},
   "outputs": [],
   "source": [
    "import csv"
   ]
  },
  {
   "cell_type": "code",
   "execution_count": 2,
   "metadata": {},
   "outputs": [],
   "source": [
    "lng_des = []\n",
    "ndb_nos = []\n",
    "flag = 1\n",
    "with open('./FOOD_DES.csv','rt')as f:\n",
    "  data = csv.reader(f)\n",
    "  for row in data:\n",
    "        if flag == 0:\n",
    "            if (\"Babyfood\") in row[2]:\n",
    "                continue\n",
    "            ndb_nos.append(row[0])\n",
    "            lng_des.append(row[2])\n",
    "        else:\n",
    "            flag = 0"
   ]
  },
  {
   "cell_type": "code",
   "execution_count": 3,
   "metadata": {},
   "outputs": [],
   "source": [
    "from nltk.stem import WordNetLemmatizer\n",
    "\n",
    "wnl = WordNetLemmatizer()"
   ]
  },
  {
   "cell_type": "code",
   "execution_count": 5,
   "metadata": {},
   "outputs": [],
   "source": [
    "import nltk\n",
    "import re\n",
    "sing_names = []\n",
    "lemm_lng_des = []\n",
    "\n",
    "for i,d in enumerate(lng_des):\n",
    "    word_list = nltk.word_tokenize(d)\n",
    "    lemmatized_output = ' '.join([wnl.lemmatize(w.lower()) for w in word_list])\n",
    "    lemm_lng_des.append(re.sub(r'([^.a-zA-Z0-9\\s\\,])', '', lemmatized_output))\n",
    "\n",
    "lemm_lng_des = list(filter(lambda x: (\"babyfood\") not in x.lower(), lemm_lng_des))\n",
    "\n",
    "names_only = list(map(lambda x: {\n",
    "    '0' : x.split(',')[0].lower().strip(),\n",
    "    '1' : x.split(',')[1].lower().strip() if len(x.split(',')) > 1 else \"\",\n",
    "    '2' : x.split(',')[2].lower().strip() if len(x.split(',')) > 2 else \"\",\n",
    "}, lemm_lng_des))\n",
    "\n",
    "sing_names = list(map(lambda x: wnl.lemmatize(x.split(',')[0].lower()) , lng_des))\n",
    "states_only = list(map(lambda x: ','.join(x.lower().split(',')[1:]) , lng_des))\n"
   ]
  },
  {
   "cell_type": "code",
   "execution_count": 6,
   "metadata": {},
   "outputs": [],
   "source": [
    "for i,d in enumerate(names_only):\n",
    "#     print(names_only[i])\n",
    "    names_only[i]['0-1'] = (names_only[i]['0'] + \" \" + names_only[i]['1']).strip()\n",
    "    names_only[i]['0-2'] = (names_only[i]['0'] + \" \" + names_only[i]['2']).strip()\n",
    "    names_only[i]['1-2'] = (names_only[i]['1'] + \" \" + names_only[i]['2']).strip()\n",
    "    names_only[i]['0-2'] = (names_only[i]['0'] + \" \" + names_only[i]['1'] + \" \" + names_only[i]['2']).strip()"
   ]
  },
  {
   "cell_type": "code",
   "execution_count": 7,
   "metadata": {},
   "outputs": [],
   "source": [
    "from nltk.stem import WordNetLemmatizer\n",
    "import nltk\n",
    "import textdistance\n",
    "wnl = WordNetLemmatizer()"
   ]
  },
  {
   "cell_type": "code",
   "execution_count": 146,
   "metadata": {},
   "outputs": [],
   "source": [
    "def findIng(ing_name, ing_state=None):\n",
    "    word_list = nltk.word_tokenize(re.sub(r'([^.a-zA-Z\\s\\,])', '', ing_name.lower()))\n",
    "    ing_name = ' '.join([wnl.lemmatize(w) for w in word_list]).strip()\n",
    "    for i,d in enumerate(names_only):\n",
    "        if textdistance.jaccard(ing_name.split(), d['0'].split()) == 1.0:\n",
    "            return i\n",
    "    for i,d in enumerate(names_only):\n",
    "        if textdistance.jaccard(ing_name.split(), d['1'].split()) == 1.0:\n",
    "            return i\n",
    "        if textdistance.jaccard(ing_name.split(), d['0-1'].split()) == 1.0:\n",
    "            return i\n",
    "    for i,d in enumerate(names_only):\n",
    "        if textdistance.jaccard(ing_name.split(), d['2'].split()) == 1.0:\n",
    "            return i\n",
    "        if textdistance.jaccard(ing_name.split(), d['0-2'].split()) == 1.0:\n",
    "            return i\n",
    "        if textdistance.jaccard(ing_name.split(), d['1-2'].split()) == 1.0:\n",
    "            return i\n",
    "    \n",
    "    maxSoFar = 0\n",
    "    maxi = -1\n",
    "    for i,d in enumerate(names_only):\n",
    "        if textdistance.jaccard(ing_name.split(), d['0'].split()) > maxSoFar:\n",
    "            maxSoFar = textdistance.jaccard(ing_name.split(), d['0'].split())\n",
    "            maxi = i\n",
    "        if textdistance.jaccard(ing_name.split(), d['1'].split()) > maxSoFar:\n",
    "            maxSoFar = textdistance.jaccard(ing_name.split(), d['1'].split())\n",
    "            maxi = i\n",
    "        if textdistance.jaccard(ing_name.split(), d['0-1'].split()) > maxSoFar:\n",
    "            maxSoFar = textdistance.jaccard(ing_name.split(), d['0-1'].split())\n",
    "            maxi = i\n",
    "        if textdistance.jaccard(ing_name.split(), d['2'].split()) > maxSoFar:\n",
    "            maxSoFar = textdistance.jaccard(ing_name.split(), d['2'].split())\n",
    "            maxi = i\n",
    "        if textdistance.jaccard(ing_name.split(), d['0-2'].split()) > maxSoFar:\n",
    "            maxSoFar = textdistance.jaccard(ing_name.split(), d['0-2'].split())\n",
    "            maxi = i\n",
    "        if textdistance.jaccard(ing_name.split(), d['1-2'].split()) > maxSoFar:\n",
    "            maxSoFar = textdistance.jaccard(ing_name.split(), d['1-2'].split())\n",
    "            maxi = i\n",
    "    return maxi"
   ]
  },
  {
   "cell_type": "code",
   "execution_count": 14,
   "metadata": {},
   "outputs": [
    {
     "name": "stdout",
     "output_type": "stream",
     "text": [
      "Peas, edible-podded, raw\n"
     ]
    }
   ],
   "source": [
    "def DistBatra(str1, str2):\n",
    "    str1 = set(str1)\n",
    "    str2 = set(str2)\n",
    "#     print (str1, str2)\n",
    "#     print (str1 & str2)\n",
    "    return float(len(str1 & str2)) / len(str1)\n",
    "\n",
    "def findIng2(ing_name, ing_state=None):\n",
    "    word_list = nltk.word_tokenize(re.sub(r'([^.a-zA-Z\\s\\,])', '', ing_name.lower()))\n",
    "    ing_name = ' '.join([wnl.lemmatize(w) for w in word_list]).strip()\n",
    "\n",
    "    foundD0 = []\n",
    "    foundD1 = []\n",
    "    foundD01 = []\n",
    "    foundD2 = []\n",
    "    foundD02 = []\n",
    "    foundD12 = []\n",
    "    priorityOrder = []\n",
    "    d0P = False\n",
    "    d1P = False\n",
    "    d01P = False\n",
    "    d02P = False\n",
    "    d12P = False\n",
    "    d2P = False\n",
    "    for i,d in enumerate(names_only):\n",
    "        if DistBatra(ing_name.split(), d['0'].split()) == 1.0:\n",
    "            foundD0.append(i)\n",
    "            if d0P == False:\n",
    "                d0P = True\n",
    "        if DistBatra(ing_name.split(), d['1'].split()) == 1.0:\n",
    "            foundD1.append(i)\n",
    "            if d1P == False:\n",
    "                d1P = True\n",
    "        if DistBatra(ing_name.split(), d['0-1'].split()) == 1.0:\n",
    "            foundD01.append(i)\n",
    "            if d01P == False:\n",
    "                d01P = True\n",
    "        if DistBatra(ing_name.split(), d['2'].split()) == 1.0:\n",
    "            foundD2.append(i)\n",
    "            if d2P == False:\n",
    "                d2P = True\n",
    "        if DistBatra(ing_name.split(), d['0-2'].split()) == 1.0:\n",
    "            foundD02.append(i)\n",
    "            if d02P == False:\n",
    "                d02P = True\n",
    "        if DistBatra(ing_name.split(), d['1-2'].split()) == 1.0:\n",
    "            foundD12.append(i)\n",
    "            if d12P == False:\n",
    "                d12P = True\n",
    "    if d0P:\n",
    "        priorityOrder.append(foundD0)\n",
    "    if d1P:\n",
    "        priorityOrder.append(foundD1)\n",
    "    if d01P:\n",
    "        priorityOrder.append(foundD01)\n",
    "    if d2P:\n",
    "        priorityOrder.append(foundD2)\n",
    "    if d12P:\n",
    "        priorityOrder.append(foundD12)\n",
    "    if d02P:\n",
    "        priorityOrder.append(foundD02)\n",
    "    \n",
    "    maxSoFar = 0\n",
    "#     for arr in priorityOrder:\n",
    "#         for item in arr:\n",
    "#             print(lng_des[item])\n",
    "    if ing_state == None:\n",
    "        ing_state = \"raw\"\n",
    "\n",
    "    if ing_state:\n",
    "        filterWithState = list(map(lambda arr: list(filter(lambda ind: DistBatra(ing_state.lower().split(), lemm_lng_des[ind].split()) == 1,arr)),priorityOrder))\n",
    "        for arr in filterWithState:\n",
    "            if (len(arr) == 0):\n",
    "                continue\n",
    "            for item in arr:\n",
    "                return item\n",
    "        \n",
    "        ing_state = \"raw\"\n",
    "        filterWithState = list(map(lambda arr: list(filter(lambda ind: DistBatra(ing_state.lower().split(), lemm_lng_des[ind].split()) == 1,arr)),priorityOrder))\n",
    "\n",
    "        for arr in filterWithState:\n",
    "            if (len(arr) == 0):\n",
    "                continue\n",
    "            for item in arr:\n",
    "                return item\n",
    "        \n",
    "\n",
    "    for arr in priorityOrder:\n",
    "            if (len(arr) == 0):\n",
    "                continue\n",
    "            for item in arr:\n",
    "                return item\n",
    "    return -1\n",
    "    \n",
    "print(lng_des[findIng2('pea','cut')])"
   ]
  },
  {
   "cell_type": "code",
   "execution_count": 196,
   "metadata": {},
   "outputs": [
    {
     "name": "stdout",
     "output_type": "stream",
     "text": [
      "apple , raw , without skin , cooked , boiled\n"
     ]
    },
    {
     "data": {
      "text/plain": [
       "1.0"
      ]
     },
     "execution_count": 196,
     "metadata": {},
     "output_type": "execute_result"
    }
   ],
   "source": [
    "print(lemm_lng_des[1911])\n",
    "DistBatra('canned', lemm_lng_des[1911])"
   ]
  },
  {
   "cell_type": "code",
   "execution_count": 166,
   "metadata": {},
   "outputs": [
    {
     "data": {
      "text/plain": [
       "'Apples, raw, with skin'"
      ]
     },
     "execution_count": 166,
     "metadata": {},
     "output_type": "execute_result"
    }
   ],
   "source": [
    "lng_des[1909]"
   ]
  },
  {
   "cell_type": "code",
   "execution_count": 94,
   "metadata": {},
   "outputs": [
    {
     "name": "stdout",
     "output_type": "stream",
     "text": [
      "['2610', ' 3 cups water', ' water', ' 3', ' cups', '', '', '', '']\n"
     ]
    }
   ],
   "source": [
    "with open('ndbno-out.csv', 'w') as csvOutput:\n",
    "    writer = csv.writer(csvOutput, delimiter=',', quotechar='\"')\n",
    "    with open('recipe-ing-mappings.csv', 'rt') as f:\n",
    "        data = csv.reader(f)\n",
    "        cnt = 0\n",
    "        for row in data:\n",
    "            cnt = cnt + 1\n",
    "\n",
    "            row.append(ndb_nos[findIng(row[2])])\n",
    "            row.append(lng_des[findIng(row[2])])\n",
    "            writer.writerow(row)\n",
    "#             if cnt == 20001:\n",
    "            break\n",
    "#         print(row[2], lng_des[findIng(row[2])])\n",
    "\n"
   ]
  },
  {
   "cell_type": "code",
   "execution_count": 13,
   "metadata": {},
   "outputs": [
    {
     "data": {
      "text/plain": [
       "0.3333333333333333"
      ]
     },
     "execution_count": 13,
     "metadata": {},
     "output_type": "execute_result"
    }
   ],
   "source": [
    "DistBatra('a b', 'a')"
   ]
  },
  {
   "cell_type": "code",
   "execution_count": 12,
   "metadata": {},
   "outputs": [],
   "source": [
    "def DistBatra(str1, str2):\n",
    "    str1 = set(str1.split())\n",
    "    str2 = set(str2)\n",
    "    return float(len(str1 & str2)) / len(str1)\n"
   ]
  },
  {
   "cell_type": "code",
   "execution_count": 200,
   "metadata": {},
   "outputs": [
    {
     "name": "stdout",
     "output_type": "stream",
     "text": [
      "{'lentil', 'red'}\n"
     ]
    },
    {
     "data": {
      "text/plain": [
       "1.0"
      ]
     },
     "execution_count": 200,
     "metadata": {},
     "output_type": "execute_result"
    }
   ],
   "source": [
    "def DistBatra(str1, str2):\n",
    "    str1 = set(str1.split())\n",
    "    str2 = set(str2.split())\n",
    "    return float(len(str1 & str2)) / len(str1)\n",
    "DistBatra('red lentil', 'lentil pink or red', )"
   ]
  },
  {
   "cell_type": "code",
   "execution_count": 7,
   "metadata": {},
   "outputs": [],
   "source": [
    "def findIng(ing_name, ing_state=None):\n",
    "    word_list = nltk.word_tokenize(ing_name)\n",
    "    ing_name = ' '.join([wnl.lemmatize(w) for w in word_list]).strip()\n",
    "    \n",
    "    for i,d in enumerate(names_only):\n",
    "        if DistBatra(ing_name.split(), d['0'].split()) == 1.0:\n",
    "            return i\n",
    "    for i,d in enumerate(names_only):\n",
    "        if DistBatra(ing_name.split(), d['1'].split()) == 1.0:\n",
    "            return i\n",
    "        if DistBatra(ing_name.split(), d['0-1'].split()) == 1.0:\n",
    "            return i\n",
    "    for i,d in enumerate(names_only):\n",
    "        if DistBatra(ing_name.split(), d['2'].split()) == 1.0:\n",
    "            return i\n",
    "        if DistBatra(ing_name.split(), d['0-2'].split()) == 1.0:\n",
    "            return i\n",
    "        if DistBatra(ing_name.split(), d['1-2'].split()) == 1.0:\n",
    "            return i\n",
    "    \n",
    "    maxSoFar = 0\n",
    "    maxi = -1\n",
    "    for i,d in enumerate(names_only):\n",
    "        if DistBatra(ing_name.split(), d['0'].split()) > maxSoFar:\n",
    "            maxSoFar = DistBatra(ing_name.split(), d['0'].split())\n",
    "            maxi = i\n",
    "        if DistBatra(ing_name.split(), d['1'].split()) > maxSoFar:\n",
    "            maxSoFar = DistBatra(ing_name.split(), d['1'].split())\n",
    "            maxi = i\n",
    "        if DistBatra(ing_name.split(), d['0-1'].split()) > maxSoFar:\n",
    "            maxSoFar = DistBatra(ing_name.split(), d['0-1'].split())\n",
    "            maxi = i\n",
    "        if DistBatra(ing_name.split(), d['2'].split()) > maxSoFar:\n",
    "            maxSoFar = DistBatra(ing_name.split(), d['2'].split())\n",
    "            maxi = i\n",
    "        if DistBatra(ing_name.split(), d['0-2'].split()) > maxSoFar:\n",
    "            maxSoFar = DistBatra(ing_name.split(), d['0-2'].split())\n",
    "            maxi = i\n",
    "        if DistBatra(ing_name.split(), d['1-2'].split()) > maxSoFar:\n",
    "            maxSoFar = DistBatra(ing_name.split(), d['1-2'].split())\n",
    "            maxi = i\n",
    "    return maxi"
   ]
  },
  {
   "cell_type": "code",
   "execution_count": 28,
   "metadata": {},
   "outputs": [
    {
     "data": {
      "text/plain": [
       "'Apples'"
      ]
     },
     "execution_count": 28,
     "metadata": {},
     "output_type": "execute_result"
    }
   ],
   "source": [
    "wnl.lemmatize('Apples')"
   ]
  },
  {
   "cell_type": "code",
   "execution_count": null,
   "metadata": {},
   "outputs": [],
   "source": []
  }
 ],
 "metadata": {
  "kernelspec": {
   "display_name": "Python 3",
   "language": "python",
   "name": "python3"
  },
  "language_info": {
   "codemirror_mode": {
    "name": "ipython",
    "version": 3
   },
   "file_extension": ".py",
   "mimetype": "text/x-python",
   "name": "python",
   "nbconvert_exporter": "python",
   "pygments_lexer": "ipython3",
   "version": "3.7.3"
  }
 },
 "nbformat": 4,
 "nbformat_minor": 2
}

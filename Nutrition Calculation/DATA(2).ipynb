{
 "cells": [
  {
   "cell_type": "code",
   "execution_count": 1,
   "metadata": {},
   "outputs": [],
   "source": [
    "# Importing required Libraries\n",
    "\n",
    "import pandas as pd\n",
    "import numpy as np"
   ]
  },
  {
   "cell_type": "code",
   "execution_count": 2,
   "metadata": {},
   "outputs": [],
   "source": [
    "recipe = pd.read_csv('../Measurements&nutrition_edited_final_tables/recipe_measurements_edited.csv')\n",
    "NUT_CPLT = pd.read_csv('../Measurements&nutrition_edited_final_tables/nut_edited.csv')"
   ]
  },
  {
   "cell_type": "code",
   "execution_count": 6,
   "metadata": {},
   "outputs": [
    {
     "data": {
      "text/html": [
       "<div>\n",
       "<style scoped>\n",
       "    .dataframe tbody tr th:only-of-type {\n",
       "        vertical-align: middle;\n",
       "    }\n",
       "\n",
       "    .dataframe tbody tr th {\n",
       "        vertical-align: top;\n",
       "    }\n",
       "\n",
       "    .dataframe thead th {\n",
       "        text-align: right;\n",
       "    }\n",
       "</style>\n",
       "<table border=\"1\" class=\"dataframe\">\n",
       "  <thead>\n",
       "    <tr style=\"text-align: right;\">\n",
       "      <th></th>\n",
       "      <th>recipe_no</th>\n",
       "      <th>ingredient_Phrase</th>\n",
       "      <th>ingredient</th>\n",
       "      <th>state</th>\n",
       "      <th>quantity</th>\n",
       "      <th>unit</th>\n",
       "      <th>temp</th>\n",
       "      <th>df</th>\n",
       "      <th>size</th>\n",
       "      <th>ing_id</th>\n",
       "      <th>ndb_id</th>\n",
       "      <th>M_or_A</th>\n",
       "    </tr>\n",
       "  </thead>\n",
       "  <tbody>\n",
       "    <tr>\n",
       "      <th>0</th>\n",
       "      <td>2610</td>\n",
       "      <td>3 cups water</td>\n",
       "      <td>water</td>\n",
       "      <td>NaN</td>\n",
       "      <td>3</td>\n",
       "      <td>cup</td>\n",
       "      <td>NaN</td>\n",
       "      <td>NaN</td>\n",
       "      <td>NaN</td>\n",
       "      <td>3</td>\n",
       "      <td>14555</td>\n",
       "      <td>M</td>\n",
       "    </tr>\n",
       "    <tr>\n",
       "      <th>1</th>\n",
       "      <td>2610</td>\n",
       "      <td>1 cup red lentils</td>\n",
       "      <td>red lentil</td>\n",
       "      <td>NaN</td>\n",
       "      <td>1</td>\n",
       "      <td>cup</td>\n",
       "      <td>NaN</td>\n",
       "      <td>NaN</td>\n",
       "      <td>NaN</td>\n",
       "      <td>452</td>\n",
       "      <td>16144</td>\n",
       "      <td>A</td>\n",
       "    </tr>\n",
       "    <tr>\n",
       "      <th>2</th>\n",
       "      <td>2610</td>\n",
       "      <td>1 roma tomato , quartered</td>\n",
       "      <td>rom tomato</td>\n",
       "      <td>quartered</td>\n",
       "      <td>1</td>\n",
       "      <td>unknown</td>\n",
       "      <td>NaN</td>\n",
       "      <td>NaN</td>\n",
       "      <td>NaN</td>\n",
       "      <td>180</td>\n",
       "      <td>93600</td>\n",
       "      <td>A</td>\n",
       "    </tr>\n",
       "    <tr>\n",
       "      <th>3</th>\n",
       "      <td>2610</td>\n",
       "      <td>1 carrot , quartered</td>\n",
       "      <td>carrot</td>\n",
       "      <td>quartered</td>\n",
       "      <td>1</td>\n",
       "      <td>unknown</td>\n",
       "      <td>NaN</td>\n",
       "      <td>NaN</td>\n",
       "      <td>NaN</td>\n",
       "      <td>21</td>\n",
       "      <td>11124</td>\n",
       "      <td>M</td>\n",
       "    </tr>\n",
       "    <tr>\n",
       "      <th>4</th>\n",
       "      <td>2610</td>\n",
       "      <td>1 small onion , quartered</td>\n",
       "      <td>onion</td>\n",
       "      <td>quartered</td>\n",
       "      <td>1</td>\n",
       "      <td>small</td>\n",
       "      <td>NaN</td>\n",
       "      <td>NaN</td>\n",
       "      <td>small</td>\n",
       "      <td>1</td>\n",
       "      <td>11282</td>\n",
       "      <td>M</td>\n",
       "    </tr>\n",
       "  </tbody>\n",
       "</table>\n",
       "</div>"
      ],
      "text/plain": [
       "   recipe_no          ingredient_Phrase  ingredient      state quantity  \\\n",
       "0       2610               3 cups water       water        NaN        3   \n",
       "1       2610          1 cup red lentils  red lentil        NaN        1   \n",
       "2       2610  1 roma tomato , quartered  rom tomato  quartered        1   \n",
       "3       2610       1 carrot , quartered      carrot  quartered        1   \n",
       "4       2610  1 small onion , quartered       onion  quartered        1   \n",
       "\n",
       "      unit temp   df   size  ing_id  ndb_id M_or_A  \n",
       "0      cup  NaN  NaN    NaN       3   14555      M  \n",
       "1      cup  NaN  NaN    NaN     452   16144      A  \n",
       "2  unknown  NaN  NaN    NaN     180   93600      A  \n",
       "3  unknown  NaN  NaN    NaN      21   11124      M  \n",
       "4    small  NaN  NaN  small       1   11282      M  "
      ]
     },
     "execution_count": 6,
     "metadata": {},
     "output_type": "execute_result"
    }
   ],
   "source": [
    "recipe.head()"
   ]
  },
  {
   "cell_type": "code",
   "execution_count": 3,
   "metadata": {},
   "outputs": [],
   "source": [
    "NUT_CPLT['description'] = NUT_CPLT['description'].astype(str) + \" (\"+ NUT_CPLT['units']+\")\"\n"
   ]
  },
  {
   "cell_type": "code",
   "execution_count": 4,
   "metadata": {},
   "outputs": [],
   "source": [
    "NUT_CPLT.drop(['tag_name','nutrient_no','units'], axis =1,inplace = True)\n",
    "recipe.drop(['df','temp','size','ingredient_Phrase','ingredient','state','ing_id','M_or_A'], axis =1,inplace = True)"
   ]
  },
  {
   "cell_type": "code",
   "execution_count": 5,
   "metadata": {},
   "outputs": [
    {
     "data": {
      "text/html": [
       "<div>\n",
       "<style scoped>\n",
       "    .dataframe tbody tr th:only-of-type {\n",
       "        vertical-align: middle;\n",
       "    }\n",
       "\n",
       "    .dataframe tbody tr th {\n",
       "        vertical-align: top;\n",
       "    }\n",
       "\n",
       "    .dataframe thead th {\n",
       "        text-align: right;\n",
       "    }\n",
       "</style>\n",
       "<table border=\"1\" class=\"dataframe\">\n",
       "  <thead>\n",
       "    <tr style=\"text-align: right;\">\n",
       "      <th></th>\n",
       "      <th>ndb_id</th>\n",
       "      <th>nutrient_val</th>\n",
       "      <th>description</th>\n",
       "      <th>unit</th>\n",
       "      <th>amount</th>\n",
       "      <th>grams</th>\n",
       "      <th>recipe_no</th>\n",
       "      <th>quantity</th>\n",
       "    </tr>\n",
       "  </thead>\n",
       "  <tbody>\n",
       "    <tr>\n",
       "      <th>0</th>\n",
       "      <td>1003</td>\n",
       "      <td>0.28</td>\n",
       "      <td>Protein (g)</td>\n",
       "      <td>tbsp</td>\n",
       "      <td>1.0</td>\n",
       "      <td>12.8</td>\n",
       "      <td>2741</td>\n",
       "      <td>1</td>\n",
       "    </tr>\n",
       "    <tr>\n",
       "      <th>1</th>\n",
       "      <td>1003</td>\n",
       "      <td>0.28</td>\n",
       "      <td>Protein (g)</td>\n",
       "      <td>tbsp</td>\n",
       "      <td>1.0</td>\n",
       "      <td>12.8</td>\n",
       "      <td>2934</td>\n",
       "      <td>2</td>\n",
       "    </tr>\n",
       "    <tr>\n",
       "      <th>2</th>\n",
       "      <td>1003</td>\n",
       "      <td>0.28</td>\n",
       "      <td>Protein (g)</td>\n",
       "      <td>tbsp</td>\n",
       "      <td>1.0</td>\n",
       "      <td>12.8</td>\n",
       "      <td>3037</td>\n",
       "      <td>NaN</td>\n",
       "    </tr>\n",
       "    <tr>\n",
       "      <th>3</th>\n",
       "      <td>1003</td>\n",
       "      <td>0.28</td>\n",
       "      <td>Protein (g)</td>\n",
       "      <td>tbsp</td>\n",
       "      <td>1.0</td>\n",
       "      <td>12.8</td>\n",
       "      <td>3281</td>\n",
       "      <td>NaN</td>\n",
       "    </tr>\n",
       "    <tr>\n",
       "      <th>4</th>\n",
       "      <td>1003</td>\n",
       "      <td>0.28</td>\n",
       "      <td>Protein (g)</td>\n",
       "      <td>tbsp</td>\n",
       "      <td>1.0</td>\n",
       "      <td>12.8</td>\n",
       "      <td>3285</td>\n",
       "      <td>NaN</td>\n",
       "    </tr>\n",
       "  </tbody>\n",
       "</table>\n",
       "</div>"
      ],
      "text/plain": [
       "   ndb_id  nutrient_val  description  unit  amount  grams  recipe_no quantity\n",
       "0    1003          0.28  Protein (g)  tbsp     1.0   12.8       2741        1\n",
       "1    1003          0.28  Protein (g)  tbsp     1.0   12.8       2934        2\n",
       "2    1003          0.28  Protein (g)  tbsp     1.0   12.8       3037      NaN\n",
       "3    1003          0.28  Protein (g)  tbsp     1.0   12.8       3281      NaN\n",
       "4    1003          0.28  Protein (g)  tbsp     1.0   12.8       3285      NaN"
      ]
     },
     "execution_count": 5,
     "metadata": {},
     "output_type": "execute_result"
    }
   ],
   "source": [
    "complt = pd.merge(NUT_CPLT, recipe,  how='inner', left_on=['ndb_id','unit'], right_on = ['ndb_id','unit'])\n",
    "complt.head()"
   ]
  },
  {
   "cell_type": "code",
   "execution_count": 6,
   "metadata": {},
   "outputs": [],
   "source": [
    "del recipe\n",
    "del NUT_CPLT"
   ]
  },
  {
   "cell_type": "code",
   "execution_count": 7,
   "metadata": {},
   "outputs": [],
   "source": [
    "# function which will convert a string like 2/5 or 1 1/5 to a float \n",
    "def convert_to_float(frac_str):\n",
    "    try:\n",
    "        return float(frac_str)\n",
    "    except ValueError:\n",
    "        num, denom = frac_str.split('/')\n",
    "        try:\n",
    "            leading, num = num.split(' ')\n",
    "            whole = float(leading)\n",
    "        except ValueError:\n",
    "            whole = 0\n",
    "        frac = float(num) / float(denom)\n",
    "        return whole - frac if whole < 0 else whole + frac\n",
    "def conv(frac_str):\n",
    "    try:\n",
    "        return convert_to_float(frac_str)\n",
    "    except ValueError:\n",
    "        return 0\n",
    "    \n",
    "#applying above function to the Quantity column    \n",
    "complt['quantity'] = complt['quantity'].apply(conv)\n",
    "\n",
    "#converting data to float so it can be computed\n",
    "complt[['grams','amount','quantity','nutrient_val']] = complt[['grams','amount','quantity','nutrient_val']].astype(float)\n",
    "complt['nutrition_final'] = (complt.grams)*(complt.quantity)/(complt.amount)*(complt.nutrient_val)/100\n",
    "complt['nutrition_final'] = complt[\"nutrition_final\"].round(4)\n",
    "# complt['gms'] = (complt.grams)*(complt.quantity)/(complt.amount)\n",
    "\n",
    "# converting final value of nutrition to string and concatonating with units\n",
    "# complt['nutrition_final'] = complt['nutrition_final'].astype(str) + \" \"+ complt['units'] "
   ]
  },
  {
   "cell_type": "code",
   "execution_count": 8,
   "metadata": {},
   "outputs": [],
   "source": [
    "# reordering some columns, and this is the final dataset  \n",
    "complt = complt[['recipe_no','ndb_id','description','nutrition_final','unit']]\n",
    "complt = complt.rename(columns={'nutrition_final': 'nutrition'})\n"
   ]
  },
  {
   "cell_type": "code",
   "execution_count": 9,
   "metadata": {},
   "outputs": [],
   "source": [
    "complt.to_csv('./Final_unpivoted.csv',index=None)"
   ]
  },
  {
   "cell_type": "code",
   "execution_count": null,
   "metadata": {},
   "outputs": [],
   "source": [
    "complt =pd.read_csv('Final_unpivoted.csv')"
   ]
  },
  {
   "cell_type": "code",
   "execution_count": null,
   "metadata": {},
   "outputs": [],
   "source": [
    "complt.head()"
   ]
  },
  {
   "cell_type": "code",
   "execution_count": null,
   "metadata": {},
   "outputs": [],
   "source": [
    "complt[complt['quantity']>200]"
   ]
  },
  {
   "cell_type": "code",
   "execution_count": null,
   "metadata": {},
   "outputs": [],
   "source": []
  }
 ],
 "metadata": {
  "kernelspec": {
   "display_name": "Python 3",
   "language": "python",
   "name": "python3"
  },
  "language_info": {
   "codemirror_mode": {
    "name": "ipython",
    "version": 3
   },
   "file_extension": ".py",
   "mimetype": "text/x-python",
   "name": "python",
   "nbconvert_exporter": "python",
   "pygments_lexer": "ipython3",
   "version": "3.7.3"
  }
 },
 "nbformat": 4,
 "nbformat_minor": 4
}

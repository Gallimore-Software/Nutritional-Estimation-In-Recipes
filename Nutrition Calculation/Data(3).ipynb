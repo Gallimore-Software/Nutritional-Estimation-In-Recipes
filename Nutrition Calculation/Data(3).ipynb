{
 "cells": [
  {
   "cell_type": "code",
   "execution_count": 2,
   "metadata": {},
   "outputs": [],
   "source": [
    "import numpy as np\n",
    "import pandas as pd"
   ]
  },
  {
   "cell_type": "code",
   "execution_count": 2,
   "metadata": {},
   "outputs": [
    {
     "data": {
      "text/html": [
       "<div>\n",
       "<style scoped>\n",
       "    .dataframe tbody tr th:only-of-type {\n",
       "        vertical-align: middle;\n",
       "    }\n",
       "\n",
       "    .dataframe tbody tr th {\n",
       "        vertical-align: top;\n",
       "    }\n",
       "\n",
       "    .dataframe thead th {\n",
       "        text-align: right;\n",
       "    }\n",
       "</style>\n",
       "<table border=\"1\" class=\"dataframe\">\n",
       "  <thead>\n",
       "    <tr style=\"text-align: right;\">\n",
       "      <th></th>\n",
       "      <th>recipe_no</th>\n",
       "      <th>ndb_id</th>\n",
       "      <th>description</th>\n",
       "      <th>nutrition</th>\n",
       "      <th>unit</th>\n",
       "    </tr>\n",
       "  </thead>\n",
       "  <tbody>\n",
       "    <tr>\n",
       "      <th>0</th>\n",
       "      <td>2741</td>\n",
       "      <td>1003</td>\n",
       "      <td>Protein (g)</td>\n",
       "      <td>0.0358</td>\n",
       "      <td>tbsp</td>\n",
       "    </tr>\n",
       "    <tr>\n",
       "      <th>1</th>\n",
       "      <td>2934</td>\n",
       "      <td>1003</td>\n",
       "      <td>Protein (g)</td>\n",
       "      <td>0.0717</td>\n",
       "      <td>tbsp</td>\n",
       "    </tr>\n",
       "    <tr>\n",
       "      <th>2</th>\n",
       "      <td>3037</td>\n",
       "      <td>1003</td>\n",
       "      <td>Protein (g)</td>\n",
       "      <td>NaN</td>\n",
       "      <td>tbsp</td>\n",
       "    </tr>\n",
       "    <tr>\n",
       "      <th>3</th>\n",
       "      <td>3281</td>\n",
       "      <td>1003</td>\n",
       "      <td>Protein (g)</td>\n",
       "      <td>NaN</td>\n",
       "      <td>tbsp</td>\n",
       "    </tr>\n",
       "    <tr>\n",
       "      <th>4</th>\n",
       "      <td>3285</td>\n",
       "      <td>1003</td>\n",
       "      <td>Protein (g)</td>\n",
       "      <td>NaN</td>\n",
       "      <td>tbsp</td>\n",
       "    </tr>\n",
       "  </tbody>\n",
       "</table>\n",
       "</div>"
      ],
      "text/plain": [
       "   recipe_no  ndb_id  description  nutrition  unit\n",
       "0       2741    1003  Protein (g)     0.0358  tbsp\n",
       "1       2934    1003  Protein (g)     0.0717  tbsp\n",
       "2       3037    1003  Protein (g)        NaN  tbsp\n",
       "3       3281    1003  Protein (g)        NaN  tbsp\n",
       "4       3285    1003  Protein (g)        NaN  tbsp"
      ]
     },
     "execution_count": 2,
     "metadata": {},
     "output_type": "execute_result"
    }
   ],
   "source": [
    "FINAL =pd.read_csv('Final_unpivoted.csv')\n",
    "FINAL.head()"
   ]
  },
  {
   "cell_type": "code",
   "execution_count": 3,
   "metadata": {},
   "outputs": [
    {
     "name": "stdout",
     "output_type": "stream",
     "text": [
      "<class 'pandas.core.frame.DataFrame'>\n",
      "RangeIndex: 63446132 entries, 0 to 63446131\n",
      "Data columns (total 5 columns):\n",
      "recipe_no      int64\n",
      "ndb_id         int64\n",
      "description    object\n",
      "nutrition      float64\n",
      "unit           object\n",
      "dtypes: float64(1), int64(2), object(2)\n",
      "memory usage: 2.4+ GB\n"
     ]
    }
   ],
   "source": [
    "FINAL.info()"
   ]
  },
  {
   "cell_type": "code",
   "execution_count": 4,
   "metadata": {},
   "outputs": [],
   "source": [
    "FINAL2=pd.pivot_table(FINAL[60000000:], values = 'nutrition', index=['recipe_no','ndb_id'],columns = \"description\",aggfunc = 'first').reset_index()\n",
    "FINAL2.to_csv('./6-pivoted.csv')"
   ]
  },
  {
   "cell_type": "code",
   "execution_count": null,
   "metadata": {},
   "outputs": [],
   "source": [
    "for i in range(1,7):\n",
    "    FINAL2 =FINAL.iloc[10000000*(i-1):10000000*i]\n",
    "    FINAL2 = pd.pivot_table(FINAL2, values = 'nutrition', index=['recipe_no','ndb_id'],columns = \"description\",aggfunc = 'first').reset_index()\n",
    "    FINAL2.to_csv('./FINAL{}.csv'.format(i))"
   ]
  },
  {
   "cell_type": "code",
   "execution_count": null,
   "metadata": {},
   "outputs": [],
   "source": [
    "# FINAL.head()"
   ]
  },
  {
   "cell_type": "code",
   "execution_count": null,
   "metadata": {},
   "outputs": [],
   "source": [
    "# FINAL.to_csv('./FINAL_pivoted.csv',index = None)"
   ]
  },
  {
   "cell_type": "code",
   "execution_count": 3,
   "metadata": {},
   "outputs": [],
   "source": [
    "'''\n",
    "Calculating final nutrition values for each recipe\n",
    "\n",
    "'''\n",
    "FINAL = pd.read_csv('6-pivoted-Copy1.csv')\n",
    "FINAL.fillna(0,inplace = True)\n",
    "F = FINAL.groupby(['recipe_no']).sum()\n",
    "F.drop(['ndb_id'],inplace = True,axis = 1)\n",
    "F.reset_index(inplace = True)\n",
    "# export_csv = F.to_csv (r'C:\\Users\\Jusha\\Desktop\\ingredient_nut.csv', index = None, header=True)\n",
    "F[\"recipe_no\"]=F[\"recipe_no\"].astype(int)\n",
    "F = F.round(4)\n",
    "export_csv = F.to_csv ('./nutrition_recipe_final.csv', index = None, header=True,float_format='%.4f')"
   ]
  },
  {
   "cell_type": "code",
   "execution_count": null,
   "metadata": {},
   "outputs": [],
   "source": []
  }
 ],
 "metadata": {
  "kernelspec": {
   "display_name": "Python 3",
   "language": "python",
   "name": "python3"
  },
  "language_info": {
   "codemirror_mode": {
    "name": "ipython",
    "version": 3
   },
   "file_extension": ".py",
   "mimetype": "text/x-python",
   "name": "python",
   "nbconvert_exporter": "python",
   "pygments_lexer": "ipython3",
   "version": "3.7.3"
  }
 },
 "nbformat": 4,
 "nbformat_minor": 4
}
